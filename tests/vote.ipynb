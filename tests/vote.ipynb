{
 "cells": [
  {
   "cell_type": "code",
   "execution_count": 13,
   "metadata": {
    "collapsed": true
   },
   "outputs": [],
   "source": [
    "from sklearn.metrics.pairwise import pairwise_distances\n",
    "from sklearn.naive_bayes import MultinomialNB\n",
    "from sklearn.neighbors import KNeighborsClassifier\n",
    "from sklearn.neural_network import MLPClassifier\n",
    "from sklearn.preprocessing import normalize\n",
    "import matplotlib.pyplot as plt\n",
    "import pandas as pd\n",
    "import numpy as np\n",
    "import time\n",
    "import pickle\n",
    "from sklearn.feature_selection import RFECV\n",
    "from sklearn.model_selection import StratifiedKFold\n",
    "from sklearn.preprocessing import normalize\n",
    "from sklearn.calibration import CalibratedClassifierCV\n",
    "from sklearn.ensemble import RandomForestClassifier\n",
    "from sklearn.feature_selection import SelectKBest, chi2\n",
    "from sklearn.metrics import log_loss, accuracy_score, classification_report\n",
    "from sklearn.model_selection import train_test_split\n",
    "from sklearn.preprocessing import Normalizer\n",
    "from sklearn.svm import SVC\n",
    "from sklearn.ensemble import ExtraTreesClassifier, GradientBoostingClassifier\n",
    "from sklearn.calibration import CalibratedClassifierCV\n",
    "from sklearn.ensemble import AdaBoostClassifier, VotingClassifier"
   ]
  },
  {
   "cell_type": "code",
   "execution_count": 8,
   "metadata": {
    "collapsed": true
   },
   "outputs": [],
   "source": [
    "df_raw = pd.read_csv(\"../data/train.csv\").drop(\"id\",axis=1)\n",
    "df_test_raw = pd.read_csv(\"../data/test.csv\").drop(\"id\",axis=1)"
   ]
  },
  {
   "cell_type": "code",
   "execution_count": 16,
   "metadata": {},
   "outputs": [
    {
     "name": "stdout",
     "output_type": "stream",
     "text": [
      "X shape : (61878, 93)\n",
      "y shape : (61878,)\n"
     ]
    }
   ],
   "source": [
    "# Récupération des labels\n",
    "labels = df_raw[\"target\"].values\n",
    "y = []\n",
    "for label in labels:\n",
    "    y.append(int(label[-1:])-1)\n",
    "y = np.asarray(y)\n",
    "# Récupérations des features sous forme de ndarray\n",
    "df_raw = df_raw.drop(\"target\", axis=1)\n",
    "X = df_raw.values\n",
    "# X_test = df_test_raw.values\n",
    "print('X shape : '+str(X.shape))\n",
    "print('y shape : '+str(y.shape))"
   ]
  },
  {
   "cell_type": "code",
   "execution_count": 17,
   "metadata": {
    "collapsed": true
   },
   "outputs": [],
   "source": [
    "X_norm = Normalizer().fit_transform(X)"
   ]
  },
  {
   "cell_type": "code",
   "execution_count": 18,
   "metadata": {
    "collapsed": true
   },
   "outputs": [],
   "source": [
    "X_train, X_test, y_train, y_test = train_test_split(X_norm, y, test_size=0.2,\n",
    "random_state=42)\n",
    "\n",
    "target_names = ['class_1', 'class_2', 'class_3', 'class_4', 'class_5', 'class_6', 'class_7', 'class_8', 'class_9']"
   ]
  },
  {
   "cell_type": "code",
   "execution_count": 19,
   "metadata": {},
   "outputs": [
    {
     "name": "stdout",
     "output_type": "stream",
     "text": [
      "CPU times: user 4min 49s, sys: 8.26 s, total: 4min 57s\n",
      "Wall time: 1min 19s\n",
      "CPU times: user 28.9 ms, sys: 7.09 ms, total: 36 ms\n",
      "Wall time: 28.7 ms\n",
      "CPU times: user 9min 38s, sys: 2.02 s, total: 9min 40s\n",
      "Wall time: 2min 43s\n",
      "CPU times: user 14min 40s, sys: 11.9 s, total: 14min 52s\n",
      "Wall time: 4min 11s\n",
      "Fit terminé\n"
     ]
    }
   ],
   "source": [
    "clf_tmp_1 = ExtraTreesClassifier(n_estimators=250, random_state=0, n_jobs=-1)\n",
    "clf_1 = CalibratedClassifierCV(clf_tmp_1, method='isotonic', cv=5)\n",
    "\n",
    "clf_2 = MultinomialNB()\n",
    "\n",
    "clf_tmp_2 = KNeighborsClassifier(n_neighbors=300, n_jobs=-1)\n",
    "clf_3 = CalibratedClassifierCV(clf_tmp_2, method='isotonic', cv=5)\n",
    "\n",
    "voting = VotingClassifier(estimators=[('ExTree', clf_1), ('MNB', clf_2), ('KNN', clf_3)], \n",
    "                          voting='soft')\n",
    "%time clf_1 = clf_1.fit(X_train, y_train)\n",
    "%time clf_2 = clf_2.fit(X_train, y_train)\n",
    "%time clf_3 = clf_3.fit(X_train, y_train)\n",
    "%time voting = voting.fit(X_train, y_train)\n",
    "\n",
    "print(\"Fit terminé\")\n"
   ]
  },
  {
   "cell_type": "code",
   "execution_count": 20,
   "metadata": {},
   "outputs": [
    {
     "name": "stdout",
     "output_type": "stream",
     "text": [
      "0.59\n",
      "             precision    recall  f1-score   support\n",
      "\n",
      "    class_1       0.76      0.35      0.48       399\n",
      "    class_2       0.67      0.88      0.76      3178\n",
      "    class_3       0.57      0.39      0.46      1561\n",
      "    class_4       0.89      0.23      0.36       538\n",
      "    class_5       0.94      0.97      0.96       565\n",
      "    class_6       0.92      0.93      0.93      2884\n",
      "    class_7       0.76      0.61      0.68       552\n",
      "    class_8       0.85      0.91      0.88      1674\n",
      "    class_9       0.83      0.88      0.85      1025\n",
      "\n",
      "avg / total       0.78      0.78      0.76     12376\n",
      "\n"
     ]
    }
   ],
   "source": [
    "pred = voting.predict_proba(X_test)\n",
    "pred_for_acc = voting.predict(X_test)\n",
    "print(\"%.2f\" % log_loss(y_test, pred, eps=1e-15, normalize=True))\n",
    "print(classification_report(y_test, pred_for_acc, target_names=target_names))"
   ]
  },
  {
   "cell_type": "code",
   "execution_count": null,
   "metadata": {
    "collapsed": true
   },
   "outputs": [],
   "source": []
  }
 ],
 "metadata": {
  "kernelspec": {
   "display_name": "Python 3",
   "language": "python",
   "name": "python3"
  },
  "language_info": {
   "codemirror_mode": {
    "name": "ipython",
    "version": 3
   },
   "file_extension": ".py",
   "mimetype": "text/x-python",
   "name": "python",
   "nbconvert_exporter": "python",
   "pygments_lexer": "ipython3",
   "version": "3.6.3"
  }
 },
 "nbformat": 4,
 "nbformat_minor": 2
}
