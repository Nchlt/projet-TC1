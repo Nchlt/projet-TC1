{
 "cells": [
  {
   "cell_type": "code",
   "execution_count": 1,
   "metadata": {
    "collapsed": true
   },
   "outputs": [],
   "source": [
    "from sklearn.model_selection import train_test_split\n",
    "from sklearn.metrics import accuracy_score, log_loss, classification_report\n",
    "from sklearn.neighbors import KNeighborsClassifier\n",
    "from sklearn.preprocessing import normalize,scale,QuantileTransformer\n",
    "from sklearn.metrics.pairwise import pairwise_distances\n",
    "from sklearn.preprocessing import Normalizer\n",
    "import matplotlib.pyplot as plt\n",
    "from sklearn.svm import SVC\n",
    "from sklearn.ensemble import RandomForestClassifier\n",
    "from sklearn.model_selection import train_test_split\n",
    "import pandas as pd\n",
    "import numpy as np\n",
    "import time\n",
    "import pickle\n",
    "from sklearn.feature_extraction.text import TfidfTransformer"
   ]
  },
  {
   "cell_type": "markdown",
   "metadata": {},
   "source": [
    "['euclidean', 'l2', 'l1', 'manhattan', 'cityblock', 'braycurtis', 'canberra', 'chebyshev', 'correlation', 'cosine', 'dice', 'hamming', 'jaccard', 'kulsinski', 'mahalanobis', 'matching', 'minkowski', 'rogerstanimoto', 'russellrao', 'seuclidean', 'sokalmichener', 'sokalsneath', 'sqeuclidean', 'yule', 'wminkowski']"
   ]
  },
  {
   "cell_type": "code",
   "execution_count": 18,
   "metadata": {},
   "outputs": [
    {
     "name": "stdout",
     "output_type": "stream",
     "text": [
      "<class 'numpy.ndarray'>\n",
      "(61878,)\n",
      "Construction des centroïdes\n",
      "(9, 93)\n",
      "Construction terminée\n",
      "X_train shape :  (49502, 9)\n",
      "X_test shape :  (12376, 9)\n"
     ]
    }
   ],
   "source": [
    "df = pd.read_csv(\"../data/train.csv\").drop(\"id\",axis=1)\n",
    "df_test = pd.read_csv(\"../data/test.csv\").drop(\"id\",axis=1)\n",
    "\n",
    "labels = df[\"target\"].values\n",
    "print(type(labels))\n",
    "print(labels.shape)\n",
    "\n",
    "df_train = df.drop(\"target\", axis=1)\n",
    "\n",
    "X = df_train.values\n",
    "#X_test = df_test.values\n",
    "\n",
    "# print(X.shape)\n",
    "# print(X_test.shape)\n",
    "\n",
    "y = []\n",
    "for label in labels:\n",
    "    y.append(int(label[-1:])-1)\n",
    "y = np.asarray(y)\n",
    "\n",
    "unique_labels = np.unique(y)\n",
    "\n",
    "tf = TfidfTransformer()\n",
    "\n",
    "print(\"Construction des centroïdes\")\n",
    "\n",
    "X_tf = tf.fit_transform(X)\n",
    "\n",
    "centroids = []\n",
    "for label in unique_labels:\n",
    "    same_labels = X_tf[np.where(y == label)]\n",
    "    centroids.append(same_labels.sum(axis = 0))\n",
    "centroids = np.asarray(centroids).reshape(9,93)\n",
    "print(centroids.shape)\n",
    "print(\"Construction terminée\")\n",
    "X_dc = pairwise_distances(X_tf, centroids, metric='euclidean')\n",
    "#X_test_dc = pairwise_distances(X_test, centroids, metric='minkowski')\n",
    "\n",
    "X_train, X_test, y_train, y_test = train_test_split(X_dc, y, test_size=0.2, random_state=42)\n",
    "\n",
    "print(\"X_train shape : \", X_train.shape)\n",
    "print(\"X_test shape : \", X_test.shape)\n"
   ]
  },
  {
   "cell_type": "code",
   "execution_count": null,
   "metadata": {},
   "outputs": [],
   "source": [
    "from sklearn.naive_bayes import MultinomialNB\n",
    "\n",
    "clf = MultinomialNB()\n",
    "%time clf.fit(X_train, y_train)\n",
    "pred_prob = clf.predict_proba(X_test)\n",
    "pred = clf.predict(X_test)\n",
    "\n",
    "print(\"Kaggle log loss :\", log_loss(y_test, pred_prob))\n",
    "print(classification_report(y_test, pred))"
   ]
  },
  {
   "cell_type": "code",
   "execution_count": null,
   "metadata": {},
   "outputs": [],
   "source": [
    "print(X_train.shape)"
   ]
  },
  {
   "cell_type": "code",
   "execution_count": 19,
   "metadata": {},
   "outputs": [
    {
     "name": "stdout",
     "output_type": "stream",
     "text": [
      "CPU times: user 93 ms, sys: 2.85 ms, total: 95.9 ms\n",
      "Wall time: 95.1 ms\n",
      "CPU times: user 1.79 s, sys: 26.9 ms, total: 1.81 s\n",
      "Wall time: 644 ms\n",
      "Kaggle log loss : 1.89225736074\n",
      "             precision    recall  f1-score   support\n",
      "\n",
      "          0       0.55      0.32      0.40       399\n",
      "          1       0.66      0.84      0.74      3178\n",
      "          2       0.49      0.37      0.42      1561\n",
      "          3       0.54      0.15      0.24       538\n",
      "          4       0.96      0.96      0.96       565\n",
      "          5       0.91      0.92      0.91      2884\n",
      "          6       0.70      0.59      0.64       552\n",
      "          7       0.83      0.89      0.86      1674\n",
      "          8       0.81      0.81      0.81      1025\n",
      "\n",
      "avg / total       0.74      0.75      0.74     12376\n",
      "\n"
     ]
    }
   ],
   "source": [
    "clf = KNeighborsClassifier(n_neighbors=10, n_jobs=6)\n",
    "%time clf.fit(X_train, y_train)\n",
    "%time pred_prob = clf.predict_proba(X_test)\n",
    "pred = clf.predict(X_test)\n",
    "\n",
    "print(\"Kaggle log loss :\", log_loss(y_test, pred_prob))\n",
    "print(classification_report(y_test, pred))"
   ]
  },
  {
   "cell_type": "code",
   "execution_count": 20,
   "metadata": {},
   "outputs": [
    {
     "name": "stdout",
     "output_type": "stream",
     "text": [
      "CPU times: user 16.9 s, sys: 80.5 ms, total: 17 s\n",
      "Wall time: 4.65 s\n",
      "CPU times: user 248 ms, sys: 25.3 ms, total: 273 ms\n",
      "Wall time: 109 ms\n",
      "Kaggle log loss metric : 1.71\n",
      "Accuracy : 0.33\n",
      "             precision    recall  f1-score   support\n",
      "\n",
      "          0       0.64      0.09      0.15       399\n",
      "          1       0.28      0.99      0.43      3178\n",
      "          2       0.67      0.02      0.04      1561\n",
      "          3       0.56      0.01      0.02       538\n",
      "          4       0.96      0.97      0.96       565\n",
      "          5       0.70      0.02      0.05      2884\n",
      "          6       0.86      0.15      0.26       552\n",
      "          7       0.93      0.04      0.08      1674\n",
      "          8       0.90      0.06      0.12      1025\n",
      "\n",
      "avg / total       0.65      0.33      0.21     12376\n",
      "\n"
     ]
    }
   ],
   "source": [
    "clf = RandomForestClassifier(n_estimators=100, n_jobs=-1)\n",
    "%time clf.fit(X_train, y_train)\n",
    "%time pred = clf.predict_proba(X_test)\n",
    "pred_for_acc = clf.predict(X_test)\n",
    "print(\"Kaggle log loss metric : %.2f\" % log_loss(y_test, pred, eps=1e-15, normalize=True))\n",
    "print(\"Accuracy : %.2f\" % accuracy_score(y_test, pred_for_acc))\n",
    "print(classification_report(y_test, pred_for_acc))\n",
    "\n"
   ]
  },
  {
   "cell_type": "code",
   "execution_count": null,
   "metadata": {},
   "outputs": [],
   "source": [
    "clf = SVC(verbose=True, probability=True)\n",
    "%time clf.fit(X_train, y_train)\n",
    "pred_prob = clf.predict_proba(X_test)\n",
    "pred = clf.predict(X_test)\n",
    "\n",
    "print(\"Kaggle log loss :\", log_loss(y_test, pred_prob))\n",
    "print(classification_report(y_test, pred))"
   ]
  },
  {
   "cell_type": "code",
   "execution_count": null,
   "metadata": {
    "collapsed": true
   },
   "outputs": [],
   "source": []
  }
 ],
 "metadata": {
  "kernelspec": {
   "display_name": "Python 3",
   "language": "python",
   "name": "python3"
  },
  "language_info": {
   "codemirror_mode": {
    "name": "ipython",
    "version": 3
   },
   "file_extension": ".py",
   "mimetype": "text/x-python",
   "name": "python",
   "nbconvert_exporter": "python",
   "pygments_lexer": "ipython3",
   "version": "3.6.3"
  }
 },
 "nbformat": 4,
 "nbformat_minor": 2
}
